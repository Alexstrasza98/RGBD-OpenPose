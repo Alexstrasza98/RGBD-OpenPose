{
 "cells": [
  {
   "cell_type": "code",
   "execution_count": 1,
   "metadata": {},
   "outputs": [],
   "source": [
    "import tensorflow as tf\n",
    "import numpy as np\n",
    "import datetime"
   ]
  },
  {
   "cell_type": "code",
   "execution_count": 2,
   "metadata": {},
   "outputs": [
    {
     "name": "stdout",
     "output_type": "stream",
     "text": [
      "{'bias_regularizer': None, 'filters': 64, 'bias_constraint': None, 'kernel_regularizer': None, 'activation': 'relu', 'use_bias': True, 'kernel_initializer': {'class_name': 'GlorotUniform', 'config': {'seed': None}}, 'kernel_size': (3, 3), 'kernel_constraint': None, 'trainable': True, 'padding': 'same', 'name': 'block1_conv1', 'dilation_rate': (1, 1), 'activity_regularizer': None, 'dtype': 'float32', 'strides': (1, 1), 'data_format': 'channels_last', 'bias_initializer': {'class_name': 'Zeros', 'config': {}}}\n",
      "{'bias_regularizer': None, 'filters': 64, 'bias_constraint': None, 'kernel_regularizer': None, 'activation': 'relu', 'use_bias': True, 'kernel_initializer': {'class_name': 'GlorotUniform', 'config': {'seed': None}}, 'kernel_size': (3, 3), 'kernel_constraint': None, 'trainable': True, 'padding': 'same', 'name': 'block1_conv2', 'dilation_rate': (1, 1), 'activity_regularizer': None, 'dtype': 'float32', 'strides': (1, 1), 'data_format': 'channels_last', 'bias_initializer': {'class_name': 'Zeros', 'config': {}}}\n",
      "{'trainable': True, 'padding': 'valid', 'name': 'block1_pool', 'data_format': 'channels_last', 'pool_size': (2, 2), 'dtype': 'float32', 'strides': (2, 2)}\n",
      "{'bias_regularizer': None, 'filters': 128, 'bias_constraint': None, 'kernel_regularizer': None, 'activation': 'relu', 'use_bias': True, 'kernel_initializer': {'class_name': 'GlorotUniform', 'config': {'seed': None}}, 'kernel_size': (3, 3), 'kernel_constraint': None, 'trainable': True, 'padding': 'same', 'name': 'block2_conv1', 'dilation_rate': (1, 1), 'activity_regularizer': None, 'dtype': 'float32', 'strides': (1, 1), 'data_format': 'channels_last', 'bias_initializer': {'class_name': 'Zeros', 'config': {}}}\n",
      "{'bias_regularizer': None, 'filters': 128, 'bias_constraint': None, 'kernel_regularizer': None, 'activation': 'relu', 'use_bias': True, 'kernel_initializer': {'class_name': 'GlorotUniform', 'config': {'seed': None}}, 'kernel_size': (3, 3), 'kernel_constraint': None, 'trainable': True, 'padding': 'same', 'name': 'block2_conv2', 'dilation_rate': (1, 1), 'activity_regularizer': None, 'dtype': 'float32', 'strides': (1, 1), 'data_format': 'channels_last', 'bias_initializer': {'class_name': 'Zeros', 'config': {}}}\n",
      "{'trainable': True, 'padding': 'valid', 'name': 'block2_pool', 'data_format': 'channels_last', 'pool_size': (2, 2), 'dtype': 'float32', 'strides': (2, 2)}\n",
      "{'bias_regularizer': None, 'filters': 256, 'bias_constraint': None, 'kernel_regularizer': None, 'activation': 'relu', 'use_bias': True, 'kernel_initializer': {'class_name': 'GlorotUniform', 'config': {'seed': None}}, 'kernel_size': (3, 3), 'kernel_constraint': None, 'trainable': True, 'padding': 'same', 'name': 'block3_conv1', 'dilation_rate': (1, 1), 'activity_regularizer': None, 'dtype': 'float32', 'strides': (1, 1), 'data_format': 'channels_last', 'bias_initializer': {'class_name': 'Zeros', 'config': {}}}\n",
      "{'bias_regularizer': None, 'filters': 256, 'bias_constraint': None, 'kernel_regularizer': None, 'activation': 'relu', 'use_bias': True, 'kernel_initializer': {'class_name': 'GlorotUniform', 'config': {'seed': None}}, 'kernel_size': (3, 3), 'kernel_constraint': None, 'trainable': True, 'padding': 'same', 'name': 'block3_conv2', 'dilation_rate': (1, 1), 'activity_regularizer': None, 'dtype': 'float32', 'strides': (1, 1), 'data_format': 'channels_last', 'bias_initializer': {'class_name': 'Zeros', 'config': {}}}\n",
      "{'bias_regularizer': None, 'filters': 256, 'bias_constraint': None, 'kernel_regularizer': None, 'activation': 'relu', 'use_bias': True, 'kernel_initializer': {'class_name': 'GlorotUniform', 'config': {'seed': None}}, 'kernel_size': (3, 3), 'kernel_constraint': None, 'trainable': True, 'padding': 'same', 'name': 'block3_conv3', 'dilation_rate': (1, 1), 'activity_regularizer': None, 'dtype': 'float32', 'strides': (1, 1), 'data_format': 'channels_last', 'bias_initializer': {'class_name': 'Zeros', 'config': {}}}\n",
      "{'trainable': True, 'padding': 'valid', 'name': 'block3_pool', 'data_format': 'channels_last', 'pool_size': (2, 2), 'dtype': 'float32', 'strides': (2, 2)}\n"
     ]
    }
   ],
   "source": [
    "tf.keras.backend.clear_session()\n",
    "\n",
    "input_shape = (368, 368, 3)  #only the input shape is shared between the models\n",
    "#transfer learning model definition\n",
    "input_layer_vgg = tf.keras.layers.Input(shape=input_shape)\n",
    "vgg_input_model = tf.keras.applications.VGG16(weights='imagenet', include_top=False, input_tensor=input_layer_vgg)\n",
    "name_last_layer = \"block3_pool\" #the last layer to copy\n",
    "\n",
    "tf.keras.backend.clear_session() #clean the graph from the transfer learning model\n",
    "\n",
    "input_layer = tf.keras.layers.Input(shape=input_shape) #define the input layer for the first model\n",
    "x=input_layer\n",
    "for layer in vgg_input_model.layers[1:]:    #copy over layers, without the other input layer\n",
    "    config=layer.get_config()  #get config\n",
    "    weights=layer.get_weights() #get weights\n",
    "    #print(config)\n",
    "    copy_layer=type(layer).from_config(config) #create the new layer from config\n",
    "    x=copy_layer(x) #connect to previous layers,\n",
    "                    #required for the proper sizing of the layer,\n",
    "                    #set_weights will not work without it\n",
    "    copy_layer.set_weights(weights)    \n",
    "    \n",
    "    if layer.name == name_last_layer:\n",
    "        break\n",
    "del vgg_input_model\n",
    "        \n",
    "input_model=tf.keras.Model(inputs=input_layer,outputs=x) #create the new model,\n",
    "                                                        #if needed x can be used further doen the line"
   ]
  },
  {
   "cell_type": "code",
   "execution_count": 3,
   "metadata": {},
   "outputs": [],
   "source": [
    "# layer = vgg_input_model.layers[1]\n",
    "# config=layer.get_config()\n",
    "# weights=layer.get_weights()\n",
    "# print(config)\n",
    "# copy_layer=type(layer).from_config(config)\n",
    "# #copy_layer.set_weights(weights)\n"
   ]
  },
  {
   "cell_type": "code",
   "execution_count": 4,
   "metadata": {},
   "outputs": [
    {
     "name": "stdout",
     "output_type": "stream",
     "text": [
      "Model: \"model\"\n",
      "_________________________________________________________________\n",
      "Layer (type)                 Output Shape              Param #   \n",
      "=================================================================\n",
      "input_1 (InputLayer)         [(None, 368, 368, 3)]     0         \n",
      "_________________________________________________________________\n",
      "block1_conv1 (Conv2D)        (None, 368, 368, 64)      1792      \n",
      "_________________________________________________________________\n",
      "block1_conv2 (Conv2D)        (None, 368, 368, 64)      36928     \n",
      "_________________________________________________________________\n",
      "block1_pool (MaxPooling2D)   (None, 184, 184, 64)      0         \n",
      "_________________________________________________________________\n",
      "block2_conv1 (Conv2D)        (None, 184, 184, 128)     73856     \n",
      "_________________________________________________________________\n",
      "block2_conv2 (Conv2D)        (None, 184, 184, 128)     147584    \n",
      "_________________________________________________________________\n",
      "block2_pool (MaxPooling2D)   (None, 92, 92, 128)       0         \n",
      "_________________________________________________________________\n",
      "block3_conv1 (Conv2D)        (None, 92, 92, 256)       295168    \n",
      "_________________________________________________________________\n",
      "block3_conv2 (Conv2D)        (None, 92, 92, 256)       590080    \n",
      "_________________________________________________________________\n",
      "block3_conv3 (Conv2D)        (None, 92, 92, 256)       590080    \n",
      "_________________________________________________________________\n",
      "block3_pool (MaxPooling2D)   (None, 46, 46, 256)       0         \n",
      "=================================================================\n",
      "Total params: 1,735,488\n",
      "Trainable params: 1,735,488\n",
      "Non-trainable params: 0\n",
      "_________________________________________________________________\n"
     ]
    }
   ],
   "source": [
    "input_model.summary()"
   ]
  },
  {
   "cell_type": "code",
   "execution_count": 5,
   "metadata": {},
   "outputs": [],
   "source": [
    "inp=np.random.random((10,368,368,3))\n",
    "out=np.random.random((10,46,46,256))"
   ]
  },
  {
   "cell_type": "code",
   "execution_count": 6,
   "metadata": {},
   "outputs": [],
   "source": [
    "tensorboard_dir='gs://dl_training_results/tensorboard/test'+datetime.datetime.now().strftime(\"%a%d%m%y-%H%M\")\n",
    "tensorboard_callback=tf.keras.callbacks.TensorBoard(  log_dir=tensorboard_dir)"
   ]
  },
  {
   "cell_type": "code",
   "execution_count": 7,
   "metadata": {},
   "outputs": [],
   "source": [
    "@tf.function\n",
    "def mse_2d_loss(y_true, y_pred):\n",
    "    pixel_losses=tf.keras.losses.mean_squared_error(y_true, y_pred)\n",
    "    return tf.math.reduce_mean(pixel_losses,axis=-1)"
   ]
  },
  {
   "cell_type": "code",
   "execution_count": 8,
   "metadata": {},
   "outputs": [
    {
     "name": "stdout",
     "output_type": "stream",
     "text": [
      "Train on 10 samples\n",
      "Epoch 1/2\n",
      "10/10 [==============================] - 18s 2s/sample - loss: 83.6260 - acc: 0.0041\n",
      "Epoch 2/2\n",
      "10/10 [==============================] - 19s 2s/sample - loss: 32.3674 - acc: 0.0029\n"
     ]
    },
    {
     "data": {
      "text/plain": [
       "<tensorflow.python.keras.callbacks.History at 0x7faa3857a208>"
      ]
     },
     "execution_count": 8,
     "metadata": {},
     "output_type": "execute_result"
    }
   ],
   "source": [
    "input_model.compile(optimizer=tf.keras.optimizers.Adam()\n",
    "                ,loss=mse_2d_loss\n",
    "                ,metrics=['acc']                    \n",
    "               )\n",
    "\n",
    "input_model.fit(\n",
    "    inp,out,epochs=2\n",
    "    \n",
    "    ,callbacks=[tensorboard_callback]\n",
    ")"
   ]
  },
  {
   "cell_type": "code",
   "execution_count": 9,
   "metadata": {},
   "outputs": [
    {
     "ename": "NameError",
     "evalue": "name 'vgg_input_model' is not defined",
     "output_type": "error",
     "traceback": [
      "\u001b[0;31m---------------------------------------------------------------------------\u001b[0m",
      "\u001b[0;31mNameError\u001b[0m                                 Traceback (most recent call last)",
      "\u001b[0;32m<ipython-input-9-fa467a0adb2b>\u001b[0m in \u001b[0;36m<module>\u001b[0;34m\u001b[0m\n\u001b[0;32m----> 1\u001b[0;31m \u001b[0mvgg_input_model\u001b[0m\u001b[0;34m.\u001b[0m\u001b[0mlayers\u001b[0m\u001b[0;34m\u001b[0m\u001b[0m\n\u001b[0m",
      "\u001b[0;31mNameError\u001b[0m: name 'vgg_input_model' is not defined"
     ]
    }
   ],
   "source": [
    "vgg_input_model.layers"
   ]
  },
  {
   "cell_type": "code",
   "execution_count": null,
   "metadata": {},
   "outputs": [],
   "source": [
    "# input_tensor = tf.keras.layers.Input(shape=input_shape)\n",
    "# vgg_input_model = tf.keras.applications.VGG16(weights='imagenet', include_top=False)\n",
    "\n",
    "# final_vgg_kayer = vgg_input_model.get_layer(\"block3_pool\")\n",
    "# input_layer=input_model.get_layer(\"block1_conv1\")\n",
    "# input_model = tf.keras.Model(inputs=input_layer.inputs, outputs=final_vgg_kayer.output)"
   ]
  },
  {
   "cell_type": "code",
   "execution_count": null,
   "metadata": {},
   "outputs": [],
   "source": [
    "# name_last_layer = \"block3_pool\"\n",
    "\n",
    "# model2 = tf.keras.Sequential()\n",
    "# for layer in vgg_input_model.layers:\n",
    "#     print(str(layer.name))\n",
    "#     if layer.name == name_last_layer:\n",
    "#         break\n",
    "#     model2.add(layer)"
   ]
  },
  {
   "cell_type": "code",
   "execution_count": null,
   "metadata": {},
   "outputs": [],
   "source": [
    "!gsutil -m rm -r gs://dl_training_results/tensorboard/*"
   ]
  },
  {
   "cell_type": "code",
   "execution_count": null,
   "metadata": {},
   "outputs": [],
   "source": [
    "l=tf.keras.layers.Conv2D(128,3)\n"
   ]
  },
  {
   "cell_type": "code",
   "execution_count": null,
   "metadata": {},
   "outputs": [],
   "source": [
    "l(input_tensor)"
   ]
  },
  {
   "cell_type": "code",
   "execution_count": null,
   "metadata": {},
   "outputs": [],
   "source": [
    "l_cfg=l.get_config()\n",
    "l_wts=l.get_weights()"
   ]
  },
  {
   "cell_type": "code",
   "execution_count": null,
   "metadata": {},
   "outputs": [],
   "source": [
    "l_wts"
   ]
  },
  {
   "cell_type": "code",
   "execution_count": null,
   "metadata": {},
   "outputs": [],
   "source": []
  }
 ],
 "metadata": {
  "kernelspec": {
   "display_name": "Python 3",
   "language": "python",
   "name": "python3"
  },
  "language_info": {
   "codemirror_mode": {
    "name": "ipython",
    "version": 3
   },
   "file_extension": ".py",
   "mimetype": "text/x-python",
   "name": "python",
   "nbconvert_exporter": "python",
   "pygments_lexer": "ipython3",
   "version": "3.5.3"
  }
 },
 "nbformat": 4,
 "nbformat_minor": 2
}
