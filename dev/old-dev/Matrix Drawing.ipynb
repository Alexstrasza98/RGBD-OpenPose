{
 "cells": [
  {
   "cell_type": "code",
   "execution_count": 11,
   "metadata": {},
   "outputs": [],
   "source": [
    "import numpy as np\n",
    "import matplotlib.pyplot as plt"
   ]
  },
  {
   "cell_type": "code",
   "execution_count": 3,
   "metadata": {},
   "outputs": [],
   "source": [
    "width=500\n",
    "height=400\n",
    "\n",
    "canvas=np.zeros((width,height))"
   ]
  },
  {
   "cell_type": "code",
   "execution_count": 42,
   "metadata": {},
   "outputs": [],
   "source": [
    "x_grid=np.arange(0,100,1)\n",
    "y_grid=np.arange(0,100,1)"
   ]
  },
  {
   "cell_type": "code",
   "execution_count": 21,
   "metadata": {},
   "outputs": [],
   "source": [
    "xx,yy=np.meshgrid(x_grid,y_grid)\n"
   ]
  },
  {
   "cell_type": "code",
   "execution_count": 16,
   "metadata": {},
   "outputs": [
    {
     "data": {
      "text/plain": [
       "array([[0., 1., 2., 3., 4., 5., 6., 7., 8., 9.],\n",
       "       [0., 1., 2., 3., 4., 5., 6., 7., 8., 9.],\n",
       "       [0., 1., 2., 3., 4., 5., 6., 7., 8., 9.],\n",
       "       [0., 1., 2., 3., 4., 5., 6., 7., 8., 9.],\n",
       "       [0., 1., 2., 3., 4., 5., 6., 7., 8., 9.],\n",
       "       [0., 1., 2., 3., 4., 5., 6., 7., 8., 9.],\n",
       "       [0., 1., 2., 3., 4., 5., 6., 7., 8., 9.],\n",
       "       [0., 1., 2., 3., 4., 5., 6., 7., 8., 9.],\n",
       "       [0., 1., 2., 3., 4., 5., 6., 7., 8., 9.],\n",
       "       [0., 1., 2., 3., 4., 5., 6., 7., 8., 9.]])"
      ]
     },
     "execution_count": 16,
     "metadata": {},
     "output_type": "execute_result"
    }
   ],
   "source": []
  },
  {
   "cell_type": "code",
   "execution_count": 22,
   "metadata": {},
   "outputs": [
    {
     "data": {
      "text/plain": [
       "<matplotlib.image.AxesImage at 0x221a659fbe0>"
      ]
     },
     "execution_count": 22,
     "metadata": {},
     "output_type": "execute_result"
    },
    {
     "data": {
      "image/png": "[encoded data removed]",
      "text/plain": [
       "<Figure size 432x288 with 1 Axes>"
      ]
     },
     "metadata": {
      "needs_background": "light"
     },
     "output_type": "display_data"
    }
   ],
   "source": [
    "plt.imshow(xx+yy)"
   ]
  },
  {
   "cell_type": "code",
   "execution_count": 28,
   "metadata": {},
   "outputs": [],
   "source": [
    "spot_x=70\n",
    "spot_y=50\n",
    "sigma=1\n"
   ]
  },
  {
   "cell_type": "code",
   "execution_count": 29,
   "metadata": {},
   "outputs": [],
   "source": [
    "c1=np.sqrt(2*np.pi)\n",
    "spot_distrbution=(1/sigma*c1)*np.exp(-0.5*((np.sqrt((xx-spot_x)**2+(yy-spot_y)**2))/sigma)**2)"
   ]
  },
  {
   "cell_type": "code",
   "execution_count": 24,
   "metadata": {},
   "outputs": [
    {
     "data": {
      "text/plain": [
       "3.141592653589793"
      ]
     },
     "execution_count": 24,
     "metadata": {},
     "output_type": "execute_result"
    }
   ],
   "source": [
    "np.pi"
   ]
  },
  {
   "cell_type": "code",
   "execution_count": 26,
   "metadata": {},
   "outputs": [
    {
     "data": {
      "text/plain": [
       "array([[86.02325267, 85.21150157, 84.40379138, ..., 56.82429058,\n",
       "        57.30619513, 57.80138407],\n",
       "       [85.44588931, 84.62860037, 83.81527307, ..., 55.94640292,\n",
       "        56.43580424, 56.93856338],\n",
       "       [84.8763807 , 84.05355436, 83.23460819, ..., 55.07267925,\n",
       "        55.56977596, 56.08029957],\n",
       "       ...,\n",
       "       [84.31488599, 83.48652586, 82.66196223, ..., 54.20332093,\n",
       "        54.70831747, 55.22680509],\n",
       "       [84.8763807 , 84.05355436, 83.23460819, ..., 55.07267925,\n",
       "        55.56977596, 56.08029957],\n",
       "       [85.44588931, 84.62860037, 83.81527307, ..., 55.94640292,\n",
       "        56.43580424, 56.93856338]])"
      ]
     },
     "execution_count": 26,
     "metadata": {},
     "output_type": "execute_result"
    }
   ],
   "source": [
    "np.sqrt((xx-spot_x)**2+(yy-spot_y)**2)"
   ]
  },
  {
   "cell_type": "code",
   "execution_count": 64,
   "metadata": {},
   "outputs": [
    {
     "data": {
      "text/plain": [
       "array([0, 0])"
      ]
     },
     "execution_count": 64,
     "metadata": {},
     "output_type": "execute_result"
    }
   ],
   "source": [
    "s=np.stack((yy-spot_y,xx-spot_x),axis=-1)\n"
   ]
  },
  {
   "cell_type": "code",
   "execution_count": 66,
   "metadata": {},
   "outputs": [],
   "source": [
    "sigma=10"
   ]
  },
  {
   "cell_type": "code",
   "execution_count": 67,
   "metadata": {},
   "outputs": [],
   "source": [
    "dist=np.linalg.norm(np.stack((xx-spot_x,yy-spot_y),axis=-1),axis=-1)\n",
    "spot_distrbution=np.exp((-(dist**2)/sigma))"
   ]
  },
  {
   "cell_type": "code",
   "execution_count": 68,
   "metadata": {},
   "outputs": [
    {
     "data": {
      "text/plain": [
       "<matplotlib.contour.QuadContourSet at 0x221a86a6710>"
      ]
     },
     "execution_count": 68,
     "metadata": {},
     "output_type": "execute_result"
    },
    {
     "data": {
      "image/png": "[encoded data removed]",
      "text/plain": [
       "<Figure size 432x288 with 1 Axes>"
      ]
     },
     "metadata": {
      "needs_background": "light"
     },
     "output_type": "display_data"
    }
   ],
   "source": [
    "plt.contour(x_grid,y_grid,spot_distrbution)"
   ]
  },
  {
   "cell_type": "code",
   "execution_count": 69,
   "metadata": {},
   "outputs": [
    {
     "data": {
      "text/plain": [
       "<matplotlib.image.AxesImage at 0x221a64dba20>"
      ]
     },
     "execution_count": 69,
     "metadata": {},
     "output_type": "execute_result"
    },
    {
     "data": {
      "image/png": "[encoded data removed]",
      "text/plain": [
       "<Figure size 432x288 with 1 Axes>"
      ]
     },
     "metadata": {
      "needs_background": "light"
     },
     "output_type": "display_data"
    }
   ],
   "source": [
    "plt.imshow(spot_distrbution)"
   ]
  },
  {
   "cell_type": "code",
   "execution_count": 95,
   "metadata": {},
   "outputs": [],
   "source": [
    "spots=[(10,10),(10,11),(10,50),(80,80)]"
   ]
  },
  {
   "cell_type": "code",
   "execution_count": 98,
   "metadata": {},
   "outputs": [],
   "source": [
    "class gaussian_spots():\n",
    "    \"\"\"This creates a tensor of gaussian spots, dimensions are given via img_size and spot_size corresonds to sigma squared\"\"\"\n",
    "    def __init__(self,spot_size,img_size):\n",
    "        self.x_grid=np.arange(0,img_size[0],1)\n",
    "        self.y_grid=np.arange(0,img_size[1],1)\n",
    "        self.xx,self.yy=np.meshgrid(x_grid,y_grid)\n",
    "        self.spot_size=spot_size\n",
    "        \n",
    "    def __call__(self,spots):\n",
    "        total_dist=None\n",
    "        for spot in spots:\n",
    "            spot_dist=np.linalg.norm(np.stack((self.xx-spot[0],self.yy-spot[1]),axis=-1),axis=-1)\n",
    "            if total_dist is None:\n",
    "                total_dist=spot_dist\n",
    "            total_dist=np.minimum(spot_dist,total_dist)\n",
    "            #an optimization. minimum of the distances instead of maximum of the gaussians as in the paper\n",
    "\n",
    "        return np.exp((-(total_dist**2)/self.spot_size))"
   ]
  },
  {
   "cell_type": "code",
   "execution_count": 99,
   "metadata": {},
   "outputs": [
    {
     "data": {
      "text/plain": [
       "<matplotlib.image.AxesImage at 0x221a8817c88>"
      ]
     },
     "execution_count": 99,
     "metadata": {},
     "output_type": "execute_result"
    },
    {
     "data": {
      "image/png": "[encoded data removed]",
      "text/plain": [
       "<Figure size 432x288 with 1 Axes>"
      ]
     },
     "metadata": {
      "needs_background": "light"
     },
     "output_type": "display_data"
    }
   ],
   "source": [
    "spot_drawer=gaussian_spots(20,(300,300))\n",
    "plt.imshow(spot_drawer(spots))"
   ]
  },
  {
   "cell_type": "code",
   "execution_count": 101,
   "metadata": {},
   "outputs": [
    {
     "data": {
      "text/plain": [
       "196.3382160203387"
      ]
     },
     "execution_count": 101,
     "metadata": {},
     "output_type": "execute_result"
    }
   ],
   "source": [
    "spot_drawer(spots).sum()"
   ]
  },
  {
   "cell_type": "code",
   "execution_count": 106,
   "metadata": {},
   "outputs": [],
   "source": [
    "j=np.array([(10,10),(50,50)])\n",
    "sigmaj=5"
   ]
  },
  {
   "cell_type": "code",
   "execution_count": 104,
   "metadata": {},
   "outputs": [],
   "source": [
    "grid=np.stack((xx,yy),axis=-1)"
   ]
  },
  {
   "cell_type": "code",
   "execution_count": 110,
   "metadata": {},
   "outputs": [],
   "source": [
    "v1=j[1]-j[0]\n",
    "l=np.linalg.norm(v1)\n",
    "v=v1/l"
   ]
  },
  {
   "cell_type": "code",
   "execution_count": 111,
   "metadata": {},
   "outputs": [
    {
     "data": {
      "text/plain": [
       "(56.568542494923804, array([0.70710678, 0.70710678]))"
      ]
     },
     "execution_count": 111,
     "metadata": {},
     "output_type": "execute_result"
    }
   ],
   "source": [
    "l,v"
   ]
  },
  {
   "cell_type": "code",
   "execution_count": 145,
   "metadata": {},
   "outputs": [],
   "source": [
    "pts=grid-j[0]\n",
    "d=np.dot(pts,v)\n"
   ]
  },
  {
   "cell_type": "code",
   "execution_count": 138,
   "metadata": {},
   "outputs": [],
   "source": [
    "vn=np.array((-v[1],v[0]))"
   ]
  },
  {
   "cell_type": "code",
   "execution_count": 147,
   "metadata": {},
   "outputs": [
    {
     "data": {
      "text/plain": [
       "array([[ True,  True,  True, ..., False, False, False],\n",
       "       [ True,  True,  True, ..., False, False, False],\n",
       "       [ True,  True,  True, ..., False, False, False],\n",
       "       ...,\n",
       "       [False, False, False, ...,  True,  True,  True],\n",
       "       [False, False, False, ...,  True,  True,  True],\n",
       "       [False, False, False, ...,  True,  True,  True]])"
      ]
     },
     "execution_count": 147,
     "metadata": {},
     "output_type": "execute_result"
    }
   ],
   "source": [
    "np.abs((np.dot(pts,vn)))<sigmaj"
   ]
  },
  {
   "cell_type": "code",
   "execution_count": 148,
   "metadata": {},
   "outputs": [
    {
     "data": {
      "text/plain": [
       "<matplotlib.image.AxesImage at 0x221a9c05d68>"
      ]
     },
     "execution_count": 148,
     "metadata": {},
     "output_type": "execute_result"
    },
    {
     "data": {
      "image/png": "[encoded data removed]",
      "text/plain": [
       "<Figure size 432x288 with 1 Axes>"
      ]
     },
     "metadata": {
      "needs_background": "light"
     },
     "output_type": "display_data"
    }
   ],
   "source": [
    "limit=(0<=d) & (d<=l) & (np.abs((np.dot(pts,vn)))<=sigmaj)\n",
    "plt.imshow(limit)"
   ]
  },
  {
   "cell_type": "code",
   "execution_count": 152,
   "metadata": {},
   "outputs": [],
   "source": [
    "canvas=np.zeros((100,100,2))"
   ]
  },
  {
   "cell_type": "code",
   "execution_count": 153,
   "metadata": {},
   "outputs": [],
   "source": [
    "canvas[limit]=v"
   ]
  },
  {
   "cell_type": "code",
   "execution_count": 156,
   "metadata": {},
   "outputs": [
    {
     "data": {
      "text/plain": [
       "array([0., 0.])"
      ]
     },
     "execution_count": 156,
     "metadata": {},
     "output_type": "execute_result"
    }
   ],
   "source": [
    "canvas[40,20]"
   ]
  },
  {
   "cell_type": "code",
   "execution_count": null,
   "metadata": {},
   "outputs": [],
   "source": [
    "class Paf_generator():\n",
    "    \"\"\"This creates a tensor of gaussian spots, dimensions are given via img_size and spot_size corresonds to sigma squared\"\"\"\n",
    "    def __init__(self,spot_size,img_size):\n",
    "        self.x_grid=np.arange(0,img_size[0],1)\n",
    "        self.y_grid=np.arange(0,img_size[1],1)\n",
    "        self.xx,self.yy=np.meshgrid(x_grid,y_grid)\n",
    "        self.spot_size=spot_size\n",
    "        \n",
    "    def __call__(self,spots):\n",
    "        total_dist=None\n",
    "        for spot in spots:\n",
    "            spot_dist=np.linalg.norm(np.stack((self.xx-spot[0],self.yy-spot[1]),axis=-1),axis=-1)\n",
    "            if total_dist is None:\n",
    "                total_dist=spot_dist\n",
    "            total_dist=np.minimum(spot_dist,total_dist)\n",
    "            #an optimization. minimum of the distances instead of maximum of the gaussians as in the paper\n",
    "\n",
    "        return np.exp((-(total_dist**2)/self.spot_size))"
   ]
  }
 ],
 "metadata": {
  "kernelspec": {
   "display_name": "Python 3",
   "language": "python",
   "name": "python3"
  },
  "language_info": {
   "codemirror_mode": {
    "name": "ipython",
    "version": 3
   },
   "file_extension": ".py",
   "mimetype": "text/x-python",
   "name": "python",
   "nbconvert_exporter": "python",
   "pygments_lexer": "ipython3",
   "version": "3.6.8"
  }
 },
 "nbformat": 4,
 "nbformat_minor": 2
}
