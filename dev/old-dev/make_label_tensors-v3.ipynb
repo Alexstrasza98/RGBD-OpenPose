{
 "cells": [
  {
   "cell_type": "code",
   "execution_count": 8,
   "metadata": {
    "pycharm": {
     "is_executing": false
    }
   },
   "outputs": [],
   "source": [
    "import os,sys,inspect\n",
    "currentdir = os.path.dirname(os.path.abspath(inspect.getfile(inspect.currentframe())))\n",
    "parentdir = os.path.dirname(currentdir)\n",
    "sys.path.insert(0,parentdir) \n",
    "\n",
    "import json\n",
    "import os\n",
    "import tensorflow as tf\n",
    "import pickle\n",
    "import numpy as np"
   ]
  },
  {
   "cell_type": "code",
   "execution_count": 9,
   "metadata": {
    "pycharm": {
     "is_executing": false
    }
   },
   "outputs": [],
   "source": [
    "import config as c\n",
    "import coco_helper as ch"
   ]
  },
  {
   "cell_type": "code",
   "execution_count": 10,
   "metadata": {
    "pycharm": {
     "is_executing": false
    }
   },
   "outputs": [],
   "source": [
    "import matplotlib.pyplot as plt"
   ]
  },
  {
   "cell_type": "markdown",
   "metadata": {},
   "source": [
    "----"
   ]
  },
  {
   "cell_type": "code",
   "execution_count": 11,
   "metadata": {
    "pycharm": {
     "is_executing": false
    }
   },
   "outputs": [],
   "source": [
    "IMAGE_HEIGHT=300\n",
    "IMAGE_WIDTH=300\n",
    "IMAGE_SIZE=(IMAGE_HEIGHT,IMAGE_WIDTH)\n",
    "GAUSSIAN_SPOT_SIGMA_SQ=0.005\n",
    "JOINT_WIDTH=0.01"
   ]
  },
  {
   "cell_type": "code",
   "execution_count": 12,
   "metadata": {
    "pycharm": {
     "is_executing": false
    }
   },
   "outputs": [],
   "source": [
    "from IPython.display import Image, display\n",
    "def show_by_id(id):\n",
    "    display(Image(filename=ch.id_to_filename(id)))\n",
    "def image_by_id(id,resize=True):\n",
    "    f=tf.io.read_file(ch.id_to_filename(id))\n",
    "    img= tf.image.decode_jpeg(f)\n",
    "    img= tf.image.convert_image_dtype(img,tf.float32)\n",
    "    if resize:\n",
    "        img=tf.image.resize(img,IMAGE_SIZE)\n",
    "    return img"
   ]
  },
  {
   "cell_type": "code",
   "execution_count": 13,
   "metadata": {
    "pycharm": {
     "is_executing": false
    }
   },
   "outputs": [],
   "source": [
    "def to_3_channels(one_channel,channel=0):\n",
    "    def rotate(l, x):\n",
    "        return l[-x:] + l[:-x]\n",
    "    zeros=np.zeros_like(one_channel)\n",
    "    channels=(one_channel,zeros,zeros)\n",
    "    return np.stack(rotate(channels,channel),axis=-1)"
   ]
  },
  {
   "cell_type": "markdown",
   "metadata": {},
   "source": [
    "-----"
   ]
  },
  {
   "cell_type": "code",
   "execution_count": 14,
   "metadata": {
    "pycharm": {
     "is_executing": false
    }
   },
   "outputs": [
    {
     "traceback": [
      "\u001b[1;31m---------------------------------------------------------------------------\u001b[0m",
      "\u001b[1;31mFileNotFoundError\u001b[0m                         Traceback (most recent call last)",
      "\u001b[1;32m<ipython-input-14-5c925bcb1356>\u001b[0m in \u001b[0;36m<module>\u001b[1;34m\u001b[0m\n\u001b[1;32m----> 1\u001b[1;33m \u001b[1;32mwith\u001b[0m \u001b[0mopen\u001b[0m\u001b[1;33m(\u001b[0m\u001b[0mc\u001b[0m\u001b[1;33m.\u001b[0m\u001b[0mTRANSFORMED_TRAIN_ANNOTATIONS_PATH\u001b[0m\u001b[1;33m,\u001b[0m \u001b[1;34m'rb'\u001b[0m\u001b[1;33m)\u001b[0m \u001b[1;32mas\u001b[0m \u001b[0mf\u001b[0m\u001b[1;33m:\u001b[0m\u001b[1;33m\u001b[0m\u001b[1;33m\u001b[0m\u001b[0m\n\u001b[0m\u001b[0;32m      2\u001b[0m     \u001b[0mcombined_dict\u001b[0m \u001b[1;33m=\u001b[0m \u001b[0mpickle\u001b[0m\u001b[1;33m.\u001b[0m\u001b[0mload\u001b[0m\u001b[1;33m(\u001b[0m\u001b[0mf\u001b[0m\u001b[1;33m)\u001b[0m\u001b[1;33m\u001b[0m\u001b[1;33m\u001b[0m\u001b[0m\n\u001b[0;32m      3\u001b[0m \u001b[1;33m\u001b[0m\u001b[0m\n",
      "\u001b[1;31mFileNotFoundError\u001b[0m: [Errno 2] No such file or directory: '.\\\\dataset\\\\transformed\\\\person_keypoints_train2017'"
     ],
     "ename": "FileNotFoundError",
     "evalue": "[Errno 2] No such file or directory: '.\\\\dataset\\\\transformed\\\\person_keypoints_train2017'",
     "output_type": "error"
    }
   ],
   "source": [
    "with open(c.TRANSFORMED_TRAIN_ANNOTATIONS_PATH, 'rb') as f:\n",
    "    combined_dict = pickle.load(f)"
   ]
  },
  {
   "cell_type": "code",
   "execution_count": null,
   "metadata": {
    "pycharm": {
     "is_executing": false
    }
   },
   "outputs": [],
   "source": [
    "ids=[]\n",
    "sizes=[]\n",
    "keypoints=[]\n",
    "joints=[]\n",
    "for idd,l in combined_dict.items():\n",
    "    ids.append(idd)\n",
    "    sizes.append(l[0])\n",
    "    keypoints.append(l[1])\n",
    "    joints.append(l[2])"
   ]
  },
  {
   "cell_type": "code",
   "execution_count": null,
   "metadata": {
    "pycharm": {
     "is_executing": false
    }
   },
   "outputs": [],
   "source": [
    "rt_keypoints=tf.ragged.constant(keypoints)"
   ]
  },
  {
   "cell_type": "code",
   "execution_count": null,
   "metadata": {
    "pycharm": {
     "is_executing": false
    }
   },
   "outputs": [],
   "source": [
    "rt_joints=tf.ragged.constant(joints)"
   ]
  },
  {
   "cell_type": "code",
   "execution_count": null,
   "metadata": {
    "pycharm": {
     "is_executing": false
    }
   },
   "outputs": [],
   "source": [
    "ds=tf.data.Dataset.from_tensor_slices((ids, sizes,rt_keypoints,rt_joints))"
   ]
  },
  {
   "cell_type": "markdown",
   "metadata": {},
   "source": [
    "---"
   ]
  },
  {
   "cell_type": "code",
   "execution_count": null,
   "metadata": {
    "pycharm": {
     "is_executing": false
    }
   },
   "outputs": [],
   "source": [
    "it=iter(ds)"
   ]
  },
  {
   "cell_type": "code",
   "execution_count": null,
   "metadata": {
    "pycharm": {
     "is_executing": false
    }
   },
   "outputs": [],
   "source": [
    "sample_tensor=next(it)\n",
    "sample_tensor"
   ]
  },
  {
   "cell_type": "code",
   "execution_count": null,
   "metadata": {
    "pycharm": {
     "is_executing": false
    }
   },
   "outputs": [],
   "source": [
    "#constants\n",
    "x_grid=tf.linspace(0.0,1.0,IMAGE_WIDTH) \n",
    "y_grid=tf.linspace(0.0,1.0,IMAGE_HEIGHT)\n",
    "\n",
    "xx,yy=tf.meshgrid(x_grid,y_grid)\n",
    "grid=tf.stack((xx,yy),axis=-1)\n",
    "\n",
    "\n",
    "@tf.function\n",
    "def draw_spots_v4(kpts_tensor):\n",
    "    kpts_tensor=kpts_tensor.to_tensor()\n",
    "    results = tf.TensorArray(tf.float32, size=17)\n",
    "    for i in tf.range(17):\n",
    "        kpts_layer = kpts_tensor[i]\n",
    "        total_dist=tf.ones(IMAGE_SIZE,dtype=tf.float32)\n",
    "\n",
    "        for kpt in kpts_layer:\n",
    "            if kpt[2]==tf.constant(0.0):\n",
    "                continue\n",
    "            #must add condition to deal with zeros\n",
    "            ortho_dist=grid-kpt[0:2] \n",
    "            spot_dist=tf.linalg.norm(ortho_dist,axis=-1)         \n",
    "            total_dist=tf.math.minimum(spot_dist,total_dist)\n",
    "\n",
    "        results=results.write(i, total_dist)\n",
    "    raw=tf.exp((-(results.stack()**2)/GAUSSIAN_SPOT_SIGMA_SQ))\n",
    "    return tf.where(raw < 0.001, 0.0, raw)"
   ]
  },
  {
   "cell_type": "code",
   "execution_count": null,
   "metadata": {
    "pycharm": {
     "is_executing": false
    }
   },
   "outputs": [],
   "source": [
    "sample_tensor[2][0]"
   ]
  },
  {
   "cell_type": "code",
   "execution_count": null,
   "metadata": {
    "pycharm": {
     "is_executing": false
    }
   },
   "outputs": [],
   "source": [
    "spots=draw_spots_v4(sample_tensor[2])"
   ]
  },
  {
   "cell_type": "code",
   "execution_count": null,
   "metadata": {
    "pycharm": {
     "is_executing": false
    }
   },
   "outputs": [],
   "source": [
    "plt.imshow(image_by_id(sample_tensor[0].numpy()))"
   ]
  },
  {
   "cell_type": "code",
   "execution_count": null,
   "metadata": {
    "pycharm": {
     "is_executing": false
    }
   },
   "outputs": [],
   "source": [
    "plt.imshow(spots.numpy().max(axis=0))"
   ]
  },
  {
   "cell_type": "code",
   "execution_count": null,
   "metadata": {
    "pycharm": {
     "is_executing": false
    }
   },
   "outputs": [],
   "source": [
    "plt.imshow(image_by_id(sample_tensor[0].numpy())+to_3_channels(spots.numpy().max(axis=0)))"
   ]
  },
  {
   "cell_type": "code",
   "execution_count": null,
   "metadata": {
    "pycharm": {
     "is_executing": false
    }
   },
   "outputs": [],
   "source": [
    "to_3_channels(spots.numpy().max(axis=0)).shape"
   ]
  },
  {
   "cell_type": "markdown",
   "metadata": {},
   "source": [
    "# SUCCESS!!!"
   ]
  },
  {
   "cell_type": "markdown",
   "metadata": {},
   "source": [
    "testing"
   ]
  },
  {
   "cell_type": "code",
   "execution_count": null,
   "metadata": {
    "pycharm": {
     "is_executing": false
    }
   },
   "outputs": [],
   "source": [
    "test=tf.ragged.constant([[[0.5197505354881287, 0.3812499940395355, 2.0]], [[0.5509355664253235, 0.34843748807907104, 2.0]], [[0.48856547474861145, 0.3671875, 2.0]], [[0.6424116492271423, 0.35468751192092896, 2.0]], [[0.48856547474861145, 0.39531248807907104, 2.0]], [[0.7380457520484924, 0.526562511920929, 2.0]], [[0.4469854533672333, 0.534375011920929, 2.0]], [[0.8461538553237915, 0.7718750238418579, 2.0]], [[0.442827433347702, 0.8125, 2.0]], [[0.9251559376716614, 0.964062511920929, 2.0]], [[0.5072765350341797, 0.698437511920929, 2.0]], [[0.7027027010917664, 0.942187488079071, 2.0]], [[0.55509352684021, 0.949999988079071, 2.0]], [[0.0, 0.0, 0.0]], [[0.0, 0.0, 0.0]], [[0.0, 0.0, 0.0]], [[0.0, 0.0, 0.0]]])"
   ]
  },
  {
   "cell_type": "code",
   "execution_count": null,
   "metadata": {
    "pycharm": {
     "is_executing": false
    }
   },
   "outputs": [],
   "source": [
    "r=draw_spots_v4(test)\n",
    "r[13][150][100]"
   ]
  },
  {
   "cell_type": "code",
   "execution_count": null,
   "metadata": {
    "pycharm": {
     "is_executing": false
    }
   },
   "outputs": [],
   "source": [
    "plt.imshow(r.numpy()[0])"
   ]
  },
  {
   "cell_type": "code",
   "execution_count": null,
   "metadata": {
    "pycharm": {
     "is_executing": false
    }
   },
   "outputs": [],
   "source": [
    "plt.imshow(image_by_id(36))"
   ]
  },
  {
   "cell_type": "markdown",
   "metadata": {},
   "source": [
    "----\n",
    "Succesful first version, converting to map_fn"
   ]
  },
  {
   "cell_type": "code",
   "execution_count": null,
   "metadata": {
    "pycharm": {
     "is_executing": false
    }
   },
   "outputs": [],
   "source": [
    "y_grid=tf.linspace(0.0,1.0,IMAGE_HEIGHT)\n",
    "x_grid=tf.linspace(0.0,1.0,IMAGE_WIDTH) \n",
    "\n",
    "xx,yy=tf.meshgrid(x_grid,y_grid)\n",
    "grid=tf.stack((xx,yy),axis=-1)\n",
    "\n",
    "@tf.function\n",
    "def draw_spots_v5(kpts_tensor):\n",
    "    kpts_tensor=kpts_tensor.to_tensor() #seems to be mandatory for map_fn\n",
    "    all_dists=tf.map_fn(draw_layer, kpts_tensor) #,parallel_iterations=20) for cpu it has no difference, maybe for gpu it will\n",
    "    \n",
    "    raw=tf.exp((-(all_dists**2)/c.GAUSSIAN_SPOT_SIGMA_SQ))\n",
    "    return tf.where(raw < 0.001, 0.0, raw)\n",
    "\n",
    "@tf.function\n",
    "def draw_layer(kpts_layer):    \n",
    "    layer_dists=tf.map_fn(kpt_dist, kpts_layer)\n",
    "    return tf.math.reduce_min(layer_dists,axis=0)\n",
    "\n",
    "@tf.function\n",
    "def kpt_dist(kpt):\n",
    "    if kpt[2]==tf.constant(0.0):\n",
    "        return tf.ones(IMAGE_SIZE,dtype=tf.float32) #maximum distance incase of empty kpt, not ideal but meh\n",
    "    else:\n",
    "        ortho_dist=grid-kpt[0:2] \n",
    "        return tf.linalg.norm(ortho_dist,axis=-1)\n",
    "        "
   ]
  },
  {
   "cell_type": "code",
   "execution_count": null,
   "metadata": {
    "pycharm": {
     "is_executing": false
    }
   },
   "outputs": [],
   "source": [
    "%%timeit -n 10\n",
    "draw_spots_v4(test)"
   ]
  },
  {
   "cell_type": "code",
   "execution_count": null,
   "metadata": {
    "pycharm": {
     "is_executing": false
    }
   },
   "outputs": [],
   "source": [
    "%%timeit -n 10\n",
    "draw_spots_v5(test)"
   ]
  },
  {
   "cell_type": "code",
   "execution_count": null,
   "metadata": {
    "pycharm": {
     "is_executing": false
    }
   },
   "outputs": [],
   "source": [
    "#checking that the output is simliar\n",
    "(draw_spots_v4(test)==draw_spots_v5(test)).numpy().all()"
   ]
  },
  {
   "cell_type": "markdown",
   "metadata": {},
   "source": [
    "Suprisngly both functions are about the same time, with slight advantage to v5, I guess for a cpu this potential parrallism is not significant, maybe it's better on gpu or tpu.\n",
    "either way great result!"
   ]
  },
  {
   "cell_type": "markdown",
   "metadata": {},
   "source": [
    "---"
   ]
  },
  {
   "cell_type": "markdown",
   "metadata": {},
   "source": [
    "# Making PAFs"
   ]
  },
  {
   "cell_type": "code",
   "execution_count": null,
   "metadata": {
    "pycharm": {
     "is_executing": false
    }
   },
   "outputs": [],
   "source": [
    "y_grid=tf.linspace(0.0,1.0,IMAGE_HEIGHT)\n",
    "x_grid=tf.linspace(0.0,1.0,IMAGE_WIDTH) \n",
    "\n",
    "xx,yy=tf.meshgrid(x_grid,y_grid)\n",
    "grid=tf.stack((xx,yy),axis=-1)\n",
    "\n",
    "@tf.function\n",
    "def draw_PAF_v1(joints_tensor):\n",
    "    joints_tensor=joints_tensor.to_tensor() #seems to be mandatory for map_fn\n",
    "    all_pafs=tf.map_fn(PAF_layer, joints_tensor) #,parallel_iterations=20) for cpu it has no difference, maybe for gpu it will\n",
    "    #this must be executed in the packing order, to produce the layers in the right order\n",
    "    \n",
    "    return tf.stack(all_pafs)\n",
    "\n",
    "@tf.function\n",
    "def PAF_layer(joints):\n",
    "    #Makes a combined PAF for all joints of the same type\n",
    "    layer_PAFS=tf.map_fn(single_joint, joints)\n",
    "    return tf.math.reduce_mean(layer_PAFS,axis=0) #averages the vectors out to combine the fields in case they intersect\n",
    "\n",
    "@tf.function\n",
    "def single_joint(joint):\n",
    "    #Makes a single vector valued PAF (part affinity field) array\n",
    "    jpts=tf.reshape(joint[0:4],(2,2))  #reshape to ((x1,y1),(x2,y2))\n",
    "    if joint[4]==tf.constant(0.0):\n",
    "        return tf.zeros((IMAGE_HEIGHT,IMAGE_WIDTH,2),dtype=tf.float32) #in case of empty joint\n",
    "    else:\n",
    "        #this follows the OpenPose paper ofr generating the PAFs\n",
    "        vector_full=jpts[1]-jpts[0] #get the joint vector\n",
    "        vector_length=tf.linalg.norm(vector_full) #get joint length\n",
    "        vector_hat=vector_full/vector_length  #get joint unit vector \n",
    "        \n",
    "        grid_vectors=grid-jpts[0]  #get grid of vectors from first joint point\n",
    "        projections=tf.tensordot(grid_vectors,vector_hat,1) #get projection on the joint unit vector\n",
    "        \n",
    "        normal_vector=tf.stack((-vector_hat[1],vector_hat[0]))\n",
    "        n_projections=tf.tensordot(grid_vectors,normal_vector,1) #get projection on the joint normal unit vector\n",
    "        na_projections=tf.abs(n_projections) #absolute value to get both sides of rhe joint\n",
    "        \n",
    "        limit=(0<=projections) & (projections<=vector_length) & (na_projections<=JOINT_WIDTH)\n",
    "        \n",
    "        limit_brdcst=tf.stack((limit,limit),axis=-1) #this is for broadcasting to the 2 tuple\n",
    "        \n",
    "        return tf.where(limit_brdcst,vector_hat,tf.constant((0.0,0.0)))"
   ]
  },
  {
   "cell_type": "markdown",
   "metadata": {},
   "source": [
    "Testing a single joint PAF"
   ]
  },
  {
   "cell_type": "code",
   "execution_count": null,
   "metadata": {
    "pycharm": {
     "is_executing": false
    }
   },
   "outputs": [],
   "source": [
    "joint1=tf.constant((0.1,0.1,0.7,0.7,2.0))\n",
    "joint2=tf.constant((0.7,0.1,0.2,0.7,2.0))\n",
    "joint3=tf.constant((0.1,0.3,0.7,0.9,2.0))\n",
    "joints=tf.stack((joint1,joint2,joint3))\n",
    "#joints"
   ]
  },
  {
   "cell_type": "code",
   "execution_count": null,
   "metadata": {
    "pycharm": {
     "is_executing": false
    }
   },
   "outputs": [],
   "source": [
    "JOINT_WIDTH=0.005 #for testing #probably better to leave it bigger"
   ]
  },
  {
   "cell_type": "code",
   "execution_count": null,
   "metadata": {
    "pycharm": {
     "is_executing": false
    }
   },
   "outputs": [],
   "source": [
    "paf1=single_joint(joint1)\n",
    "paf2=single_joint(joint2)\n",
    "paf3=single_joint(joint3)"
   ]
  },
  {
   "cell_type": "code",
   "execution_count": null,
   "metadata": {
    "pycharm": {
     "is_executing": false
    }
   },
   "outputs": [],
   "source": [
    "def plot_vector_field(paf,downsample=5):\n",
    "    \"\"\"if downsample is 1, original size is returned\"\"\"\n",
    "    plt.figure(figsize=(8,8))\n",
    "    if downsample:\n",
    "        U=paf[::downsample,::downsample,0]\n",
    "        V=paf[::downsample,::downsample,1]\n",
    "    plt.quiver(U,V,scale=5,angles=\"xy\")"
   ]
  },
  {
   "cell_type": "code",
   "execution_count": null,
   "metadata": {
    "pycharm": {
     "is_executing": false
    }
   },
   "outputs": [],
   "source": [
    "plot_vector_field(paf1,downsample=10)"
   ]
  },
  {
   "cell_type": "markdown",
   "metadata": {},
   "source": [
    "Sucess for single PAF"
   ]
  },
  {
   "cell_type": "code",
   "execution_count": null,
   "metadata": {
    "pycharm": {
     "is_executing": false
    }
   },
   "outputs": [],
   "source": [
    "plot_vector_field(PAF_layer(joints))"
   ]
  },
  {
   "cell_type": "markdown",
   "metadata": {},
   "source": [
    "Success!!"
   ]
  },
  {
   "cell_type": "code",
   "execution_count": null,
   "metadata": {
    "pycharm": {
     "is_executing": false
    }
   },
   "outputs": [],
   "source": [
    "all_pafs=draw_PAF_v1(sample_tensor[3])\n",
    "plot_vector_field(all_pafs[0])"
   ]
  },
  {
   "cell_type": "code",
   "execution_count": null,
   "metadata": {
    "pycharm": {
     "is_executing": false
    }
   },
   "outputs": [],
   "source": [
    "abs(all_pafs.numpy()).max(axis=0).shape"
   ]
  },
  {
   "cell_type": "code",
   "execution_count": null,
   "metadata": {
    "pycharm": {
     "is_executing": false
    }
   },
   "outputs": [],
   "source": [
    "def plot_vector_field_img(paf,downsample=5):\n",
    "    \"\"\"if downsample is 1, original size is returned\"\"\"\n",
    "    plt.figure(figsize=(8,8))\n",
    "    if downsample:\n",
    "        U=paf[::downsample,::downsample,0]\n",
    "        V=paf[::downsample,::downsample,1]\n",
    "    plt.quiver(U,V,scale=20,angles=\"xy\",minlength=0.1,linewidth=0.1,color='r')\n",
    "plot_vector_field_img(abs(all_pafs.numpy()).max(axis=0),downsample=1)\n",
    "plt.imshow(image_by_id(sample_tensor[0]))\n",
    "plt.show()"
   ]
  },
  {
   "cell_type": "code",
   "execution_count": null,
   "metadata": {
    "pycharm": {
     "is_executing": false
    }
   },
   "outputs": [],
   "source": [
    "import visualizations as v"
   ]
  },
  {
   "cell_type": "code",
   "execution_count": null,
   "metadata": {
    "pycharm": {
     "is_executing": false
    }
   },
   "outputs": [],
   "source": [
    "import importlib\n",
    "importlib.reload(v)"
   ]
  },
  {
   "cell_type": "code",
   "execution_count": null,
   "metadata": {
    "pycharm": {
     "is_executing": false
    }
   },
   "outputs": [],
   "source": [
    "v.plot_PAFs_on_img(all_pafs.numpy(),image_by_id(sample_tensor[0]),downsample=3)"
   ]
  },
  {
   "cell_type": "markdown",
   "metadata": {},
   "source": [
    "EXPERIMENTAL"
   ]
  },
  {
   "cell_type": "code",
   "execution_count": null,
   "metadata": {
    "pycharm": {
     "is_executing": false
    }
   },
   "outputs": [],
   "source": [
    "v.plot_skeleton_on_img(all_pafs.numpy(),image_by_id(sample_tensor[0]))"
   ]
  },
  {
   "cell_type": "code",
   "execution_count": null,
   "metadata": {
    "pycharm": {
     "is_executing": false
    }
   },
   "outputs": [],
   "source": [
    "sample_tensor[3].shape[0]"
   ]
  },
  {
   "cell_type": "code",
   "execution_count": null,
   "metadata": {
    "pycharm": {
     "is_executing": false
    }
   },
   "outputs": [],
   "source": []
  }
 ],
 "metadata": {
  "kernelspec": {
   "display_name": "Python 3",
   "language": "python",
   "name": "python3"
  },
  "language_info": {
   "codemirror_mode": {
    "name": "ipython",
    "version": 3
   },
   "file_extension": ".py",
   "mimetype": "text/x-python",
   "name": "python",
   "nbconvert_exporter": "python",
   "pygments_lexer": "ipython3",
   "version": "3.6.8"
  },
  "pycharm": {
   "stem_cell": {
    "cell_type": "raw",
    "source": [],
    "metadata": {
     "collapsed": false
    }
   }
  }
 },
 "nbformat": 4,
 "nbformat_minor": 2
}