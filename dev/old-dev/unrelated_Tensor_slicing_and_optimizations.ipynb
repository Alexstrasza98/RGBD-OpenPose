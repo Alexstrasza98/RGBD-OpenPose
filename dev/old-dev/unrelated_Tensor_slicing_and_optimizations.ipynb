{
 "cells": [
  {
   "cell_type": "code",
   "execution_count": 1,
   "metadata": {},
   "outputs": [],
   "source": [
    "import tensorflow as tf\n",
    "import coco_helper as ch\n",
    "from config import *\n",
    "import numpy as np\n",
    "import pickle\n",
    "import glob\n",
    "import matplotlib.pyplot as plt"
   ]
  },
  {
   "cell_type": "code",
   "execution_count": 2,
   "metadata": {},
   "outputs": [],
   "source": [
    "canvas=tf.constant(np.zeros((10,10)))"
   ]
  },
  {
   "cell_type": "code",
   "execution_count": 3,
   "metadata": {},
   "outputs": [],
   "source": [
    "small=tf.constant(np.ones((3,3)))"
   ]
  },
  {
   "cell_type": "code",
   "execution_count": 51,
   "metadata": {},
   "outputs": [
    {
     "data": {
      "text/plain": [
       "<tf.Tensor: id=225, shape=(10, 10), dtype=float32, numpy=\n",
       "array([[0., 0., 0., 0., 0., 0., 0., 0., 0., 0.],\n",
       "       [0., 0., 0., 0., 0., 0., 0., 0., 0., 0.],\n",
       "       [0., 0., 0., 0., 0., 0., 0., 0., 0., 0.],\n",
       "       [0., 0., 0., 3., 3., 0., 0., 0., 0., 0.],\n",
       "       [0., 0., 0., 0., 0., 0., 0., 0., 0., 0.],\n",
       "       [0., 0., 0., 0., 0., 0., 0., 0., 0., 0.],\n",
       "       [0., 0., 0., 0., 0., 0., 0., 0., 0., 0.],\n",
       "       [0., 0., 0., 0., 0., 0., 0., 0., 0., 0.],\n",
       "       [0., 0., 0., 0., 0., 0., 0., 0., 0., 0.],\n",
       "       [0., 0., 0., 0., 0., 0., 0., 0., 0., 0.]], dtype=float32)>"
      ]
     },
     "execution_count": 51,
     "metadata": {},
     "output_type": "execute_result"
    }
   ],
   "source": [
    "indices=tf.constant([[3,3],[3,4]])\n",
    "updates=tf.ones([2])*3\n",
    "shape=tf.constant((10,10))\n",
    "\n",
    "tf.scatter_nd(    indices,    updates,    shape)"
   ]
  },
  {
   "cell_type": "code",
   "execution_count": 72,
   "metadata": {},
   "outputs": [
    {
     "data": {
      "text/plain": [
       "<tf.Tensor: id=306, shape=(10, 10), dtype=float32, numpy=\n",
       "array([[0., 0., 0., 0., 0., 0., 0., 0., 0., 0.],\n",
       "       [0., 0., 0., 0., 0., 0., 0., 0., 0., 0.],\n",
       "       [0., 0., 0., 0., 0., 0., 0., 0., 0., 0.],\n",
       "       [3., 3., 3., 3., 3., 3., 3., 3., 3., 3.],\n",
       "       [0., 0., 0., 0., 0., 0., 0., 0., 0., 0.],\n",
       "       [0., 0., 0., 0., 0., 0., 0., 0., 0., 0.],\n",
       "       [0., 0., 0., 0., 0., 0., 0., 0., 0., 0.],\n",
       "       [0., 0., 0., 0., 0., 0., 0., 0., 0., 0.],\n",
       "       [0., 0., 0., 0., 0., 0., 0., 0., 0., 0.],\n",
       "       [0., 0., 0., 0., 0., 0., 0., 0., 0., 0.]], dtype=float32)>"
      ]
     },
     "execution_count": 72,
     "metadata": {},
     "output_type": "execute_result"
    }
   ],
   "source": [
    "indices=tf.constant([[3]])\n",
    "updates=tf.ones([1,10])*3\n",
    "shape=tf.constant((10,10))\n",
    "\n",
    "tf.scatter_nd(    indices,    updates,    shape)"
   ]
  },
  {
   "cell_type": "code",
   "execution_count": 61,
   "metadata": {},
   "outputs": [
    {
     "data": {
      "text/plain": [
       "1"
      ]
     },
     "execution_count": 61,
     "metadata": {},
     "output_type": "execute_result"
    }
   ],
   "source": [
    "shape.shape.rank"
   ]
  },
  {
   "cell_type": "code",
   "execution_count": 65,
   "metadata": {},
   "outputs": [
    {
     "data": {
      "text/plain": [
       "<tf.Tensor: id=277, shape=(5, 8), dtype=int32, numpy=\n",
       "array([[0, 0, 0, 0, 0, 0, 0, 0],\n",
       "       [0, 0, 0, 0, 0, 0, 0, 0],\n",
       "       [0, 0, 0, 0, 0, 0, 0, 0],\n",
       "       [0, 0, 0, 0, 0, 1, 2, 3],\n",
       "       [0, 0, 0, 0, 0, 4, 5, 6]])>"
      ]
     },
     "execution_count": 65,
     "metadata": {},
     "output_type": "execute_result"
    }
   ],
   "source": [
    "t = tf.constant([[1, 2, 3], [4, 5, 6]])\n",
    "paddings = tf.constant([[3,0], [5, 0]])\n",
    "# 'constant_values' is 0.\n",
    "# rank of 't' is 2.\n",
    "tf.pad(t, paddings, \"CONSTANT\")"
   ]
  },
  {
   "cell_type": "code",
   "execution_count": 69,
   "metadata": {},
   "outputs": [],
   "source": [
    "indices = tf.constant([[0], [2]])\n",
    "updates = tf.constant([\n",
    "                       [[5, 5, 5, 5], [6, 6, 6, 6],[7, 7, 7, 7], [8, 8, 8, 8]],\n",
    "                       [[5, 5, 5, 5], [6, 6, 6, 6],[7, 7, 7, 7], [8, 8, 8, 8]] \n",
    "                    ],dtype=tf.float32)\n",
    "tensor = tf.ones([4, 4, 4],dtype=tf.float32)\n",
    "updated = tf.tensor_scatter_nd_update(tensor, indices, updates)"
   ]
  },
  {
   "cell_type": "code",
   "execution_count": 70,
   "metadata": {},
   "outputs": [
    {
     "data": {
      "text/plain": [
       "<tf.Tensor: id=298, shape=(4, 4, 4), dtype=float32, numpy=\n",
       "array([[[5., 5., 5., 5.],\n",
       "        [6., 6., 6., 6.],\n",
       "        [7., 7., 7., 7.],\n",
       "        [8., 8., 8., 8.]],\n",
       "\n",
       "       [[1., 1., 1., 1.],\n",
       "        [1., 1., 1., 1.],\n",
       "        [1., 1., 1., 1.],\n",
       "        [1., 1., 1., 1.]],\n",
       "\n",
       "       [[5., 5., 5., 5.],\n",
       "        [6., 6., 6., 6.],\n",
       "        [7., 7., 7., 7.],\n",
       "        [8., 8., 8., 8.]],\n",
       "\n",
       "       [[1., 1., 1., 1.],\n",
       "        [1., 1., 1., 1.],\n",
       "        [1., 1., 1., 1.],\n",
       "        [1., 1., 1., 1.]]], dtype=float32)>"
      ]
     },
     "execution_count": 70,
     "metadata": {},
     "output_type": "execute_result"
    }
   ],
   "source": [
    "updated"
   ]
  },
  {
   "cell_type": "code",
   "execution_count": 4,
   "metadata": {},
   "outputs": [],
   "source": [
    "spot_size=600\n",
    "middle=int(spot_size/2)\n",
    "x=tf.range(spot_size,dtype=tf.float32)\n",
    "y=tf.range(spot_size,dtype=tf.float32)\n",
    "xx,yy=tf.meshgrid(x,y)\n",
    "spot_grid=tf.stack((xx,yy),axis=-1)\n",
    "center=tf.constant((middle,middle),dtype=tf.float32)"
   ]
  },
  {
   "cell_type": "code",
   "execution_count": 5,
   "metadata": {},
   "outputs": [],
   "source": [
    "ortho_dists=spot_grid-center\n",
    "dist=tf.linalg.norm(ortho_dists,axis=-1)\n",
    "sigma=10\n",
    "gaussian=tf.exp((-dist/sigma))\n",
    "#gaussian=tf.expand_dims(gaussian,-1)"
   ]
  },
  {
   "cell_type": "code",
   "execution_count": 6,
   "metadata": {},
   "outputs": [
    {
     "data": {
      "text/plain": [
       "<tf.Tensor: id=46, shape=(600, 600), dtype=float32, numpy=\n",
       "array([[3.7535794e-19, 4.0283704e-19, 4.3227668e-19, ..., 4.6381294e-19,\n",
       "        4.3227668e-19, 4.0283704e-19],\n",
       "       [4.0283704e-19, 4.3237894e-19, 4.6403240e-19, ..., 4.9794422e-19,\n",
       "        4.6403240e-19, 4.3237894e-19],\n",
       "       [4.3227668e-19, 4.6403240e-19, 4.9806204e-19, ..., 5.3452194e-19,\n",
       "        4.9806204e-19, 4.6403240e-19],\n",
       "       ...,\n",
       "       [4.6381294e-19, 4.9794422e-19, 5.3452194e-19, ..., 5.7372094e-19,\n",
       "        5.3452194e-19, 4.9794422e-19],\n",
       "       [4.3227668e-19, 4.6403240e-19, 4.9806204e-19, ..., 5.3452194e-19,\n",
       "        4.9806204e-19, 4.6403240e-19],\n",
       "       [4.0283704e-19, 4.3237894e-19, 4.6403240e-19, ..., 4.9794422e-19,\n",
       "        4.6403240e-19, 4.3237894e-19]], dtype=float32)>"
      ]
     },
     "execution_count": 6,
     "metadata": {},
     "output_type": "execute_result"
    }
   ],
   "source": [
    "gaussian"
   ]
  },
  {
   "cell_type": "code",
   "execution_count": 153,
   "metadata": {},
   "outputs": [
    {
     "data": {
      "text/plain": [
       "<matplotlib.colorbar.Colorbar at 0x1acbd7c35f8>"
      ]
     },
     "execution_count": 153,
     "metadata": {},
     "output_type": "execute_result"
    },
    {
     "data": {
      "image/png": "[encoded data removed]",
      "text/plain": [
       "<Figure size 432x288 with 2 Axes>"
      ]
     },
     "metadata": {
      "needs_background": "light"
     },
     "output_type": "display_data"
    }
   ],
   "source": [
    "plt.imshow(gaussian)\n",
    "plt.colorbar()"
   ]
  },
  {
   "cell_type": "code",
   "execution_count": 154,
   "metadata": {},
   "outputs": [],
   "source": [
    "target_size=300\n",
    "smaller_window=target_size-middle"
   ]
  },
  {
   "cell_type": "code",
   "execution_count": 161,
   "metadata": {},
   "outputs": [
    {
     "data": {
      "text/plain": [
       "<matplotlib.image.AxesImage at 0x1acbebeaf98>"
      ]
     },
     "execution_count": 161,
     "metadata": {},
     "output_type": "execute_result"
    },
    {
     "data": {
      "image/png": "[encoded data removed]",
      "text/plain": [
       "<Figure size 432x288 with 1 Axes>"
      ]
     },
     "metadata": {
      "needs_background": "light"
     },
     "output_type": "display_data"
    }
   ],
   "source": [
    "x_coord=300\n",
    "y_coord=300\n",
    "#corrected_x_coord=x_coord+middle\n",
    "#corrected_y_coord=y_coord+middle\n",
    "\n",
    "paddings=[[x_coord,target_size-x_coord],[y_coord,target_size-y_coord]]\n",
    "paddings=tf.constant(paddings)\n",
    "\n",
    "placed=tf.pad(gaussian,paddings,\"CONSTANT\")\n",
    "plt.imshow(placed)"
   ]
  },
  {
   "cell_type": "code",
   "execution_count": 162,
   "metadata": {},
   "outputs": [
    {
     "data": {
      "text/plain": [
       "<matplotlib.image.AxesImage at 0x1acbec2cc50>"
      ]
     },
     "execution_count": 162,
     "metadata": {},
     "output_type": "execute_result"
    },
    {
     "data": {
      "image/png": "[encoded data removed]",
      "text/plain": [
       "<Figure size 432x288 with 1 Axes>"
      ]
     },
     "metadata": {
      "needs_background": "light"
     },
     "output_type": "display_data"
    }
   ],
   "source": [
    "cropped=placed[middle:-middle,middle:-middle]\n",
    "plt.imshow(cropped)"
   ]
  },
  {
   "cell_type": "code",
   "execution_count": 163,
   "metadata": {},
   "outputs": [
    {
     "data": {
      "text/plain": [
       "<tf.Tensor: id=1016, shape=(300, 300), dtype=float32, numpy=\n",
       "array([[0.       , 0.       , 0.       , ..., 0.       , 0.       ,\n",
       "        0.       ],\n",
       "       [0.       , 0.       , 0.       , ..., 0.       , 0.       ,\n",
       "        0.       ],\n",
       "       [0.       , 0.       , 0.       , ..., 0.       , 0.       ,\n",
       "        0.       ],\n",
       "       ...,\n",
       "       [0.       , 0.       , 0.       , ..., 0.6542511, 0.6972891,\n",
       "        0.7288934],\n",
       "       [0.       , 0.       , 0.       , ..., 0.6972891, 0.7536383,\n",
       "        0.7996295],\n",
       "       [0.       , 0.       , 0.       , ..., 0.7288934, 0.7996295,\n",
       "        0.8681235]], dtype=float32)>"
      ]
     },
     "execution_count": 163,
     "metadata": {},
     "output_type": "execute_result"
    }
   ],
   "source": []
  },
  {
   "cell_type": "code",
   "execution_count": 206,
   "metadata": {},
   "outputs": [],
   "source": [
    "spot_size=50\n",
    "middle=int(spot_size/2)\n",
    "x=tf.range(spot_size,dtype=tf.float32)\n",
    "y=tf.range(spot_size,dtype=tf.float32)\n",
    "xx,yy=tf.meshgrid(x,y)\n",
    "spot_grid=tf.stack((xx,yy),axis=-1)\n",
    "center=tf.constant((middle,middle),dtype=tf.float32)\n",
    "\n",
    "ortho_dists=spot_grid-center\n",
    "dist=tf.linalg.norm(ortho_dists,axis=-1)\n",
    "sigma=10\n",
    "gaussian=tf.exp((-dist/sigma))\n",
    "\n",
    "IMAGE_SIZE=(300,300)\n",
    "\n",
    "@tf.function\n",
    "def draw_spots_v6(coords):\n",
    "    x_coord=coords[0]\n",
    "    y_coord=coords[1]\n",
    "    \n",
    "    paddings=[[x_coord,target_size-x_coord],[y_coord,target_size-y_coord]]\n",
    "    paddings=tf.constant(paddings)\n",
    "\n",
    "    placed=tf.pad(gaussian,paddings,\"CONSTANT\")\n",
    "    cropped=placed[middle:-middle,middle:-middle]\n",
    "    return cropped"
   ]
  },
  {
   "cell_type": "code",
   "execution_count": 208,
   "metadata": {},
   "outputs": [
    {
     "name": "stdout",
     "output_type": "stream",
     "text": [
      "356 µs ± 22.7 µs per loop (mean ± std. dev. of 7 runs, 1000 loops each)\n"
     ]
    }
   ],
   "source": [
    "%timeit draw_spots_v6((100,100))"
   ]
  },
  {
   "cell_type": "code",
   "execution_count": 234,
   "metadata": {},
   "outputs": [],
   "source": [
    "y_grid=tf.range(300,dtype=tf.float32)\n",
    "x_grid=tf.range(300,dtype=tf.float32) \n",
    "\n",
    "xx,yy=tf.meshgrid(y_grid,x_grid)\n",
    "grid=tf.stack((xx,yy),axis=-1)\n",
    "\n",
    "@tf.function\n",
    "def kpt_dist(kpt):\n",
    "    ortho_dist=grid-kpt\n",
    "    dist=tf.linalg.norm(ortho_dist,axis=-1)\n",
    "    #return tf.exp((-dist/sigma))\n",
    "    return dist"
   ]
  },
  {
   "cell_type": "code",
   "execution_count": 198,
   "metadata": {},
   "outputs": [
    {
     "name": "stdout",
     "output_type": "stream",
     "text": [
      "960 µs ± 27.7 µs per loop (mean ± std. dev. of 7 runs, 1000 loops each)\n"
     ]
    }
   ],
   "source": [
    "%timeit kpt_dist((100,100))"
   ]
  },
  {
   "cell_type": "markdown",
   "metadata": {},
   "source": [
    "It's definitly an optimization, by a factor of 3"
   ]
  },
  {
   "cell_type": "code",
   "execution_count": 214,
   "metadata": {},
   "outputs": [],
   "source": [
    "def draw_spot_v7(coords):\n",
    "    x_coord=coords[0]\n",
    "    y_coord=coords[1]\n",
    "    x_idx=tf.range(x_coord-middle,x_coord+middle)\n",
    "    y_idx=tf.range(y_coord-middle,y_coord+middle)\n",
    "    indices=tf.stack(tf.meshgrid(y_idx,x_idx),axis=-1)\n",
    "    \n",
    "    return tf.scatter_nd(    indices,    gaussian,    (300,300))"
   ]
  },
  {
   "cell_type": "code",
   "execution_count": 216,
   "metadata": {},
   "outputs": [
    {
     "name": "stdout",
     "output_type": "stream",
     "text": [
      "1.46 ms ± 9.98 µs per loop (mean ± std. dev. of 7 runs, 1000 loops each)\n"
     ]
    }
   ],
   "source": [
    "%timeit draw_spot_v7((100,100))"
   ]
  },
  {
   "cell_type": "code",
   "execution_count": 20,
   "metadata": {},
   "outputs": [],
   "source": [
    "spot_size=600\n",
    "middle=int(spot_size/2)\n",
    "x=tf.range(spot_size,dtype=tf.float32)\n",
    "y=tf.range(spot_size,dtype=tf.float32)\n",
    "xx,yy=tf.meshgrid(x,y)\n",
    "spot_grid=tf.stack((xx,yy),axis=-1)\n",
    "center=tf.constant((middle,middle),dtype=tf.float32)\n",
    "\n",
    "ortho_dists=spot_grid-center\n",
    "dist=tf.linalg.norm(ortho_dists,axis=-1)\n",
    "sigma=10\n",
    "gaussian=tf.exp((-dist/sigma))\n",
    "\n",
    "image_sizes=tf.constant((300,300),dtype=tf.int32)\n",
    "\n",
    "@tf.function\n",
    "def draw_spot_v8(coords):\n",
    "    #using slice from a larger canvas\n",
    "    inverse_coords=image_sizes-coords\n",
    "    return gaussian[inverse_coords[1]:inverse_coords[1]+image_sizes[1],inverse_coords[0]:inverse_coords[0]+image_sizes[0]]"
   ]
  },
  {
   "cell_type": "code",
   "execution_count": 21,
   "metadata": {},
   "outputs": [
    {
     "data": {
      "text/plain": [
       "<matplotlib.image.AxesImage at 0x21cd96de6a0>"
      ]
     },
     "execution_count": 21,
     "metadata": {},
     "output_type": "execute_result"
    },
    {
     "data": {
      "image/png": "[encoded data removed]",
      "text/plain": [
       "<Figure size 432x288 with 1 Axes>"
      ]
     },
     "metadata": {
      "needs_background": "light"
     },
     "output_type": "display_data"
    }
   ],
   "source": [
    "coords=tf.constant((150,30),dtype=tf.int32)\n",
    "plt.imshow(draw_spot_v8(coords))"
   ]
  },
  {
   "cell_type": "code",
   "execution_count": 24,
   "metadata": {},
   "outputs": [
    {
     "name": "stdout",
     "output_type": "stream",
     "text": [
      "291 µs ± 24.2 µs per loop (mean ± std. dev. of 7 runs, 1000 loops each)\n"
     ]
    }
   ],
   "source": [
    "%timeit draw_spot_v8(coords)"
   ]
  },
  {
   "cell_type": "markdown",
   "metadata": {},
   "source": [
    "Fastest version!"
   ]
  },
  {
   "cell_type": "code",
   "execution_count": null,
   "metadata": {},
   "outputs": [],
   "source": []
  },
  {
   "cell_type": "code",
   "execution_count": null,
   "metadata": {},
   "outputs": [],
   "source": []
  },
  {
   "cell_type": "markdown",
   "metadata": {},
   "source": [
    "Using the scatter_nd is suprisingly the slowest, probably becuase of the meshgrid generations"
   ]
  },
  {
   "cell_type": "code",
   "execution_count": 217,
   "metadata": {},
   "outputs": [
    {
     "data": {
      "text/plain": [
       "<matplotlib.image.AxesImage at 0x1acbece1f28>"
      ]
     },
     "execution_count": 217,
     "metadata": {},
     "output_type": "execute_result"
    },
    {
     "data": {
      "image/png": "[encoded data removed]",
      "text/plain": [
       "<Figure size 432x288 with 1 Axes>"
      ]
     },
     "metadata": {
      "needs_background": "light"
     },
     "output_type": "display_data"
    }
   ],
   "source": [
    "plt.imshow(draw_spot_v7((100,100)))"
   ]
  },
  {
   "cell_type": "code",
   "execution_count": 245,
   "metadata": {},
   "outputs": [
    {
     "data": {
      "text/plain": [
       "<matplotlib.image.AxesImage at 0x1acc1358908>"
      ]
     },
     "execution_count": 245,
     "metadata": {},
     "output_type": "execute_result"
    },
    {
     "data": {
      "image/png": "[encoded data removed]",
      "text/plain": [
       "<Figure size 432x288 with 1 Axes>"
      ]
     },
     "metadata": {
      "needs_background": "light"
     },
     "output_type": "display_data"
    }
   ],
   "source": [
    "a=tf.constant((140,140),dtype=tf.float32)\n",
    "b=tf.constant((145,140),dtype=tf.float32)\n",
    "\n",
    "ga=kpt_dist(a)\n",
    "gb=kpt_dist(b)\n",
    "st=tf.stack((ga,gb))\n",
    "\n",
    "r1m=tf.reduce_min( st,axis=0)\n",
    "r1=tf.exp((-r1m/sigma))\n",
    "plt.imshow(r1)"
   ]
  },
  {
   "cell_type": "code",
   "execution_count": 247,
   "metadata": {},
   "outputs": [
    {
     "data": {
      "text/plain": [
       "<matplotlib.image.AxesImage at 0x1acc153ef98>"
      ]
     },
     "execution_count": 247,
     "metadata": {},
     "output_type": "execute_result"
    },
    {
     "data": {
      "image/png": "[encoded data removed]",
      "text/plain": [
       "<Figure size 432x288 with 1 Axes>"
      ]
     },
     "metadata": {
      "needs_background": "light"
     },
     "output_type": "display_data"
    }
   ],
   "source": [
    "a=tf.constant((140,140),dtype=tf.float32)\n",
    "b=tf.constant((145,140),dtype=tf.float32)\n",
    "\n",
    "da=kpt_dist(a)\n",
    "ga=tf.exp((-da/sigma))\n",
    "db=kpt_dist(b)\n",
    "gb=tf.exp((-db/sigma))\n",
    "st=tf.stack((ga,gb))\n",
    "\n",
    "r2=tf.reduce_max( st,axis=0)\n",
    "\n",
    "plt.imshow(r2)"
   ]
  },
  {
   "cell_type": "code",
   "execution_count": 249,
   "metadata": {},
   "outputs": [
    {
     "data": {
      "text/plain": [
       "True"
      ]
     },
     "execution_count": 249,
     "metadata": {},
     "output_type": "execute_result"
    }
   ],
   "source": [
    " np.all((r2==r1).numpy())"
   ]
  },
  {
   "cell_type": "code",
   "execution_count": null,
   "metadata": {},
   "outputs": [],
   "source": []
  }
 ],
 "metadata": {
  "kernelspec": {
   "display_name": "Python 3",
   "language": "python",
   "name": "python3"
  },
  "language_info": {
   "codemirror_mode": {
    "name": "ipython",
    "version": 3
   },
   "file_extension": ".py",
   "mimetype": "text/x-python",
   "name": "python",
   "nbconvert_exporter": "python",
   "pygments_lexer": "ipython3",
   "version": "3.6.8"
  }
 },
 "nbformat": 4,
 "nbformat_minor": 2
}
