{
 "cells": [
  {
   "cell_type": "code",
   "execution_count": null,
   "metadata": {},
   "outputs": [],
   "source": [
    "import tensorflow as tf\n",
    "import numpy as np\n",
    "import matplotlib.pyplot as plt"
   ]
  },
  {
   "cell_type": "code",
   "execution_count": 7,
   "metadata": {},
   "outputs": [],
   "source": [
    "model = tf.keras.Sequential()\n",
    "model.add(tf.keras.layers.Lambda(lambda x: x, input_shape=(10,10,5)))\n",
    "\n",
    "model.compile(loss=\"mse\",metrics=['accuracy'])\n"
   ]
  },
  {
   "cell_type": "code",
   "execution_count": 8,
   "metadata": {},
   "outputs": [
    {
     "name": "stdout",
     "output_type": "stream",
     "text": [
      "\r",
      "3/3 [==============================] - 0s 29ms/sample - loss: 2500.0000 - accuracy: 1.0000\n"
     ]
    },
    {
     "data": {
      "text/plain": [
       "[2500.0, 1.0]"
      ]
     },
     "execution_count": 8,
     "metadata": {},
     "output_type": "execute_result"
    }
   ],
   "source": [
    "inp=tf.zeros((3,10,10,5))\n",
    "labels=tf.ones((3,10,10,5))*50\n",
    "model.evaluate(x=inp,y=labels)"
   ]
  },
  {
   "cell_type": "code",
   "execution_count": 27,
   "metadata": {},
   "outputs": [],
   "source": [
    "offset=1\n",
    "\n",
    "spot=np.zeros((1,10,10,1),dtype=np.float32)\n",
    "spot[:,:10,:10,:]=0.3\n",
    "spot[:,:5,:5,:]=0.6\n",
    "spot[:,:2,:2,:]=0.9\n",
    "spot[:,:1,:1,:]=1\n",
    "\n",
    "\n",
    "true=np.zeros((1,100,100,1),dtype=np.float32)\n",
    "true[:,:10,:10,:]=spot\n",
    "pred=np.zeros((1,100,100,1),dtype=np.float32)\n",
    "\n",
    "pred[:,offset:offset+10,offset:offset+10,:]=spot"
   ]
  },
  {
   "cell_type": "code",
   "execution_count": 30,
   "metadata": {},
   "outputs": [
    {
     "data": {
      "text/plain": [
       "<matplotlib.image.AxesImage at 0x7fe7c071d940>"
      ]
     },
     "execution_count": 30,
     "metadata": {},
     "output_type": "execute_result"
    },
    {
     "data": {
      "image/png": "[encoded data removed]",
      "text/plain": [
       "<Figure size 432x288 with 1 Axes>"
      ]
     },
     "metadata": {
      "needs_background": "light"
     },
     "output_type": "display_data"
    }
   ],
   "source": [
    "plt.imshow(pred[0][...,0])"
   ]
  },
  {
   "cell_type": "code",
   "execution_count": 22,
   "metadata": {},
   "outputs": [
    {
     "data": {
      "text/plain": [
       "<matplotlib.colorbar.Colorbar at 0x7fe7d817c390>"
      ]
     },
     "execution_count": 22,
     "metadata": {},
     "output_type": "execute_result"
    },
    {
     "data": {
      "image/png": "[encoded data removed]",
      "text/plain": [
       "<Figure size 432x288 with 2 Axes>"
      ]
     },
     "metadata": {
      "needs_background": "light"
     },
     "output_type": "display_data"
    }
   ],
   "source": [
    "error=true-pred\n",
    "positive_error=error*(error>0)\n",
    "plt.imshow(error[0][:,:,0])\n",
    "plt.colorbar()"
   ]
  },
  {
   "cell_type": "code",
   "execution_count": 41,
   "metadata": {},
   "outputs": [],
   "source": [
    "class AnalogRecallError(tf.keras.metrics.Metric):\n",
    "    \"\"\"This metric returns the overlap of the true gaussian 'islands' and the predicted ones\"\"\"\n",
    "    def __init__(self, name='analog_recall_error',thershold=0.01, **kwargs):\n",
    "        super(AnalogRecallError, self).__init__(name=name, **kwargs)\n",
    "        self.mean = self.add_weight(name='mean', initializer='zeros')\n",
    "        self.thershold=thershold\n",
    "    \n",
    "    def update_state(self, y_true, y_pred):        \n",
    "        true_island_sum=tf.reduce_sum(tf.where(y_true>self.thershold,y_true,0)) #get sum of the true island\n",
    "        true_island_size=tf.cast(tf.math.count_nonzero(y_true>self.thershold),dtype=tf.float32) #get size of the island   \n",
    "        mean_island_true=true_island_sum/true_island_size #average island value\n",
    "               \n",
    "        err=y_true-y_pred  #get all error\n",
    "        recall_err=tf.where(err>0,err,0)  #get only recall error, the parts where prediction is missing\n",
    "        recall_err_sum=tf.reduce_sum(recall_err)        \n",
    "        err_island_size=tf.cast(tf.math.count_nonzero(true>self.thershold),tf.float32)  #get size of the islands above thershold\n",
    "        \n",
    "        mean_island_recall_err=recall_err_sum/err_island_size  #mean of the error \n",
    "        \n",
    "        value=mean_island_recall_err/mean_island_true\n",
    "        self.mean.assign_add(value)\n",
    "    def result(self):\n",
    "        return self.mean"
   ]
  },
  {
   "cell_type": "code",
   "execution_count": 43,
   "metadata": {},
   "outputs": [
    {
     "name": "stdout",
     "output_type": "stream",
     "text": [
      "\n",
      "For Offset - 0\n",
      "AnalogRecallError - 0.0\n",
      "Recall - 0.25\n",
      "Precision - 1.0\n",
      "MeanAbsoluteError - 0.0\n",
      "MeanAbsolutePercentageError - 0.0\n",
      "Accuracy - 1.0\n",
      "\n",
      "For Offset - 1\n",
      "AnalogRecallError - 0.24226801\n",
      "Recall - 0.25\n",
      "Precision - 1.0\n",
      "MeanAbsoluteError - 0.0018799999\n",
      "MeanAbsolutePercentageError - 570000.3\n",
      "Accuracy - 0.9949\n",
      "\n",
      "For Offset - 2\n",
      "AnalogRecallError - 0.43556696\n",
      "Recall - 0.25\n",
      "Precision - 1.0\n",
      "MeanAbsoluteError - 0.0033799994\n",
      "MeanAbsolutePercentageError - 1080000.5\n",
      "Accuracy - 0.9908\n",
      "\n",
      "For Offset - 5\n",
      "AnalogRecallError - 0.806701\n",
      "Recall - 0.25\n",
      "Precision - 1.0\n",
      "MeanAbsoluteError - 0.0062600016\n",
      "MeanAbsolutePercentageError - 2250001.0\n",
      "Accuracy - 0.9825\n",
      "\n",
      "For Offset - 10\n",
      "AnalogRecallError - 0.99999994\n",
      "Recall - 0.0\n",
      "Precision - 0.0\n",
      "MeanAbsoluteError - 0.0077600013\n",
      "MeanAbsolutePercentageError - 3880001.5\n",
      "Accuracy - 0.98\n",
      "\n",
      "For Offset - 50\n",
      "AnalogRecallError - 0.99999994\n",
      "Recall - 0.0\n",
      "Precision - 0.0\n",
      "MeanAbsoluteError - 0.0077600004\n",
      "MeanAbsolutePercentageError - 3880001.5\n",
      "Accuracy - 0.98\n"
     ]
    }
   ],
   "source": [
    "metrics={\n",
    "        \"Accuracy\":tf.keras.metrics.Accuracy(),\n",
    "        \"MeanAbsoluteError\":tf.keras.metrics.MeanAbsoluteError(),\n",
    "        \"Recall\":tf.keras.metrics.Recall(),\n",
    "        \"Precision\":tf.keras.metrics.Precision(),\n",
    "        \"MeanAbsolutePercentageError\":tf.keras.metrics.MeanAbsolutePercentageError(),\n",
    "        \"AnalogRecallError\":AnalogRecallError()        \n",
    "}\n",
    "for offset in [0,1,2,5,10,50]:\n",
    "    print(\"\\nFor Offset - %d\"%offset)\n",
    "    for metric_name,metric in metrics.items():\n",
    "        pred=np.zeros((1,100,100,1),dtype=np.float32)\n",
    "        pred[:,offset:offset+10,offset:offset+10,:]=spot\n",
    "        metric.reset_states()\n",
    "        metric.update_state(tf.constant(true), tf.constant(pred))\n",
    "        result=metric.result().numpy()\n",
    "        print(metric_name,\"-\",result)"
   ]
  },
  {
   "cell_type": "raw",
   "metadata": {},
   "source": [
    "Results:\n",
    "*for gaussians\n",
    "    recall is rather useless, it's only 0.25 when in full overlap\n",
    "    Accuracy is useless completly, always close to 1\n",
    "    MeanAbsoluteError is usefull in all circumstances but hard to understand\n",
    "    AnalogRecallError - usefull for the final accuracy"
   ]
  },
  {
   "cell_type": "markdown",
   "metadata": {},
   "source": [
    "Vector field metrics (PAFs)"
   ]
  },
  {
   "cell_type": "code",
   "execution_count": 44,
   "metadata": {},
   "outputs": [],
   "source": [
    "spot=np.zeros((1,10,10,1),dtype=np.float32)\n",
    "spot[:,:10,:10,:]=0.3\n",
    "\n",
    "true=np.zeros((1,100,100,1),dtype=np.float32)\n",
    "true[:,:10,:10,:]=spot"
   ]
  },
  {
   "cell_type": "code",
   "execution_count": 45,
   "metadata": {},
   "outputs": [
    {
     "name": "stdout",
     "output_type": "stream",
     "text": [
      "\n",
      "For Offset - 0\n",
      "AnalogRecallError - 0.0\n",
      "Recall - 0.0\n",
      "Precision - 0.0\n",
      "MeanAbsoluteError - 0.0\n",
      "MeanAbsolutePercentageError - 0.0\n",
      "Accuracy - 1.0\n",
      "\n",
      "For Offset - 1\n",
      "AnalogRecallError - 0.18999998\n",
      "Recall - 0.0\n",
      "Precision - 0.0\n",
      "MeanAbsoluteError - 0.00114\n",
      "MeanAbsolutePercentageError - 570000.2\n",
      "Accuracy - 0.9962\n",
      "\n",
      "For Offset - 2\n",
      "AnalogRecallError - 0.35999995\n",
      "Recall - 0.0\n",
      "Precision - 0.0\n",
      "MeanAbsoluteError - 0.00216\n",
      "MeanAbsolutePercentageError - 1080000.4\n",
      "Accuracy - 0.9928\n",
      "\n",
      "For Offset - 5\n",
      "AnalogRecallError - 0.74999994\n",
      "Recall - 0.0\n",
      "Precision - 0.0\n",
      "MeanAbsoluteError - 0.0045000007\n",
      "MeanAbsolutePercentageError - 2250000.8\n",
      "Accuracy - 0.985\n",
      "\n",
      "For Offset - 10\n",
      "AnalogRecallError - 0.9999999\n",
      "Recall - 0.0\n",
      "Precision - 0.0\n",
      "MeanAbsoluteError - 0.0060000014\n",
      "MeanAbsolutePercentageError - 3000001.0\n",
      "Accuracy - 0.98\n",
      "\n",
      "For Offset - 50\n",
      "AnalogRecallError - 0.9999999\n",
      "Recall - 0.0\n",
      "Precision - 0.0\n",
      "MeanAbsoluteError - 0.006\n",
      "MeanAbsolutePercentageError - 3000001.0\n",
      "Accuracy - 0.98\n"
     ]
    }
   ],
   "source": [
    "metrics={\n",
    "        \"Accuracy\":tf.keras.metrics.Accuracy(),\n",
    "        \"MeanAbsoluteError\":tf.keras.metrics.MeanAbsoluteError(),\n",
    "        \"Recall\":tf.keras.metrics.Recall(),\n",
    "        \"Precision\":tf.keras.metrics.Precision(),\n",
    "        \"MeanAbsolutePercentageError\":tf.keras.metrics.MeanAbsolutePercentageError(),\n",
    "        \"AnalogRecallError\":AnalogRecallError()        \n",
    "}\n",
    "for offset in [0,1,2,5,10,50]:\n",
    "    print(\"\\nFor Offset - %d\"%offset)\n",
    "    for metric_name,metric in metrics.items():\n",
    "        pred=np.zeros((1,100,100,1),dtype=np.float32)\n",
    "        pred[:,offset:offset+10,offset:offset+10,:]=spot\n",
    "        metric.reset_states()\n",
    "        metric.update_state(tf.constant(true), tf.constant(pred))\n",
    "        result=metric.result().numpy()\n",
    "        print(metric_name,\"-\",result)"
   ]
  },
  {
   "cell_type": "raw",
   "metadata": {},
   "source": [
    "Seems for pafs (where the positives can be small values)\n",
    "the same holds as for previous:\n",
    "MeanAbsoluteError and AnalogRecallError  are both useful, and the rest is not"
   ]
  },
  {
   "cell_type": "code",
   "execution_count": null,
   "metadata": {},
   "outputs": [],
   "source": []
  }
 ],
 "metadata": {
  "kernelspec": {
   "display_name": "Python 3",
   "language": "python",
   "name": "python3"
  },
  "language_info": {
   "codemirror_mode": {
    "name": "ipython",
    "version": 3
   },
   "file_extension": ".py",
   "mimetype": "text/x-python",
   "name": "python",
   "nbconvert_exporter": "python",
   "pygments_lexer": "ipython3",
   "version": "3.5.3"
  }
 },
 "nbformat": 4,
 "nbformat_minor": 2
}
